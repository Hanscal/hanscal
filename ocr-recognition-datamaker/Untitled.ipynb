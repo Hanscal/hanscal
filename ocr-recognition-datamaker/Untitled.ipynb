{
 "cells": [
  {
   "cell_type": "code",
   "execution_count": 31,
   "metadata": {},
   "outputs": [
    {
     "name": "stdout",
     "output_type": "stream",
     "text": [
      "new font: /Volumes/work/build-tools/ocr-recognition-datamaker/text_renderer/data/fonts/字体管家仿宋体.ttf\n"
     ]
    }
   ],
   "source": [
    "from PIL import Image, ImageDraw, ImageFont\n",
    "import numpy as np\n",
    "\n",
    "img_t = Image.new('RGBA',(1,1))\n",
    "draw_t = ImageDraw.Draw(img_t)\n",
    "\n",
    "font_path = '/Volumes/work/build-tools/ocr-recognition-datamaker/text_renderer/data/fonts/字体管家仿宋体.ttf'\n",
    "font_size = 18\n",
    "text = '达观数据'\n",
    "\n",
    "hash_str = '{}_{}'.format(font_path,font_size)\n",
    "print('new font:',font_path)\n",
    "font_cashes = {hash_str:ImageFont.truetype(font_path,font_size)}\n",
    "font = ImageFont.truetype(font_path,font_size)\n",
    "w,h = draw_t.textsize(text,font=font)\n",
    "text_img = Image.new('RGBA',(w,h),(0,0,0,0))\n",
    "draw = ImageDraw.Draw(text_img)\n",
    "draw.text((0,0),text,font=font,fill=(47,37,47))\n",
    "\n",
    "#仿射变换\n",
    "w,h = text_img.size\n",
    "text_img=text_img.transform((w+h,h),Image.AFFINE,(1.1,0.4,-h,0,1,0))\n",
    "text_img.save('./text_img.png')\n",
    "text_img.show()\n",
    "\n",
    "bg_path = '/Volumes/work/build-tools/ocr-recognition-datamaker/text_renderer/data/bg/13_re.jpg'\n",
    "bg_img = Image.open(bg_path)\n",
    "W,H = bg_img.size\n",
    "\n",
    "X1 = int((W-w)/2)\n",
    "Y1 = int((H-h)/2)\n",
    "bg_img.paste(text_img,(X1,Y1),mask=text_img)\n",
    "# bg_img.show()\n",
    "\n",
    "\n",
    "\n"
   ]
  },
  {
   "cell_type": "code",
   "execution_count": null,
   "metadata": {},
   "outputs": [],
   "source": []
  }
 ],
 "metadata": {
  "kernelspec": {
   "display_name": "Python 3",
   "language": "python",
   "name": "python3"
  },
  "language_info": {
   "codemirror_mode": {
    "name": "ipython",
    "version": 3
   },
   "file_extension": ".py",
   "mimetype": "text/x-python",
   "name": "python",
   "nbconvert_exporter": "python",
   "pygments_lexer": "ipython3",
   "version": "3.6.8"
  }
 },
 "nbformat": 4,
 "nbformat_minor": 2
}
